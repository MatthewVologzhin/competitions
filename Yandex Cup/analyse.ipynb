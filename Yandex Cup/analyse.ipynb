{
 "cells": [
  {
   "cell_type": "code",
   "execution_count": 11,
   "id": "1a79c940",
   "metadata": {},
   "outputs": [],
   "source": [
    "import os\n",
    "import pandas as pd\n",
    "import matplotlib.pyplot as plt\n",
    "%matplotlib inline"
   ]
  },
  {
   "cell_type": "code",
   "execution_count": 20,
   "id": "be3a09fb",
   "metadata": {},
   "outputs": [
    {
     "name": "stdout",
     "output_type": "stream",
     "text": [
      "1160084 483275\n"
     ]
    }
   ],
   "source": [
    "#Перемешать данные и брать для анализа лишь 1/10 или больше от всего объёма\n",
    "with open('train') as train:\n",
    "    data = list()\n",
    "    tracks_stat = dict()\n",
    "    lines = train.readlines()\n",
    "    for line in lines:\n",
    "        user = list()\n",
    "        tracks = line.strip().split(' ')\n",
    "        for track in tracks:\n",
    "            if track not in tracks_stat:\n",
    "                tracks_stat[track] = 0\n",
    "            tracks_stat[track] += 1\n",
    "            user.append(track)\n",
    "        data.append(user)\n",
    "    print(len(data), len(tracks_stat))"
   ]
  },
  {
   "cell_type": "code",
   "execution_count": 24,
   "id": "a9593f2a",
   "metadata": {},
   "outputs": [
    {
     "data": {
      "text/plain": [
       "256"
      ]
     },
     "execution_count": 24,
     "metadata": {},
     "output_type": "execute_result"
    }
   ],
   "source": [
    "data = pd.Series(data)\n",
    "len(min(data))"
   ]
  },
  {
   "cell_type": "code",
   "execution_count": null,
   "id": "06acfbcd",
   "metadata": {},
   "outputs": [],
   "source": []
  }
 ],
 "metadata": {
  "kernelspec": {
   "display_name": "Python 3 (ipykernel)",
   "language": "python",
   "name": "python3"
  },
  "language_info": {
   "codemirror_mode": {
    "name": "ipython",
    "version": 3
   },
   "file_extension": ".py",
   "mimetype": "text/x-python",
   "name": "python",
   "nbconvert_exporter": "python",
   "pygments_lexer": "ipython3",
   "version": "3.9.2"
  }
 },
 "nbformat": 4,
 "nbformat_minor": 5
}
